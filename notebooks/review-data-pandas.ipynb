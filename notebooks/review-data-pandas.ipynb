{
 "cells": [
  {
   "cell_type": "code",
   "execution_count": 4,
   "metadata": {
    "collapsed": true,
    "pycharm": {
     "name": "#%%\n"
    }
   },
   "outputs": [],
   "source": [
    "import pandas as pd"
   ]
  },
  {
   "cell_type": "code",
   "execution_count": 11,
   "outputs": [],
   "source": [
    "df = pd.read_json('../scripts/data/2022-06-05-0.json.gz', lines=True)\n"
   ],
   "metadata": {
    "collapsed": false,
    "pycharm": {
     "name": "#%%\n"
    }
   }
  },
  {
   "cell_type": "code",
   "execution_count": 12,
   "outputs": [
    {
     "data": {
      "text/plain": "            id         type  \\\n0  22164041431  CreateEvent   \n1  22164041432    PushEvent   \n2  22164041434    PushEvent   \n3  22164041435  CreateEvent   \n4  22164041436    PushEvent   \n\n                                               actor  \\\n0  {'id': 44050213, 'login': 'collisioncataclysm'...   \n1  {'id': 92907907, 'login': 'znyt', 'display_log...   \n2  {'id': 44050213, 'login': 'collisioncataclysm'...   \n3  {'id': 88858119, 'login': 'danrprado', 'displa...   \n4  {'id': 69619077, 'login': 'szk302', 'display_l...   \n\n                                                repo  \\\n0  {'id': 496726861, 'name': 'collisioncataclysm/...   \n1  {'id': 446902156, 'name': 'znyt/oss111', 'url'...   \n2  {'id': 496726861, 'name': 'collisioncataclysm/...   \n3  {'id': 496835873, 'name': 'danrprado/cpanel-ap...   \n4  {'id': 430227097, 'name': 'szk302/dev-blog-htm...   \n\n                                             payload  public  \\\n0  {'ref': 'snyk-upgrade-54c90b4fba783e33846b3123...    True   \n1  {'push_id': 10072717837, 'size': 1, 'distinct_...    True   \n2  {'push_id': 10072717839, 'size': 1, 'distinct_...    True   \n3  {'ref': 'update-readme', 'ref_type': 'branch',...    True   \n4  {'push_id': 10072717843, 'size': 1, 'distinct_...    True   \n\n                 created_at  org  \n0 2022-06-05 00:00:00+00:00  NaN  \n1 2022-06-05 00:00:00+00:00  NaN  \n2 2022-06-05 00:00:00+00:00  NaN  \n3 2022-06-05 00:00:00+00:00  NaN  \n4 2022-06-05 00:00:00+00:00  NaN  ",
      "text/html": "<div>\n<style scoped>\n    .dataframe tbody tr th:only-of-type {\n        vertical-align: middle;\n    }\n\n    .dataframe tbody tr th {\n        vertical-align: top;\n    }\n\n    .dataframe thead th {\n        text-align: right;\n    }\n</style>\n<table border=\"1\" class=\"dataframe\">\n  <thead>\n    <tr style=\"text-align: right;\">\n      <th></th>\n      <th>id</th>\n      <th>type</th>\n      <th>actor</th>\n      <th>repo</th>\n      <th>payload</th>\n      <th>public</th>\n      <th>created_at</th>\n      <th>org</th>\n    </tr>\n  </thead>\n  <tbody>\n    <tr>\n      <th>0</th>\n      <td>22164041431</td>\n      <td>CreateEvent</td>\n      <td>{'id': 44050213, 'login': 'collisioncataclysm'...</td>\n      <td>{'id': 496726861, 'name': 'collisioncataclysm/...</td>\n      <td>{'ref': 'snyk-upgrade-54c90b4fba783e33846b3123...</td>\n      <td>True</td>\n      <td>2022-06-05 00:00:00+00:00</td>\n      <td>NaN</td>\n    </tr>\n    <tr>\n      <th>1</th>\n      <td>22164041432</td>\n      <td>PushEvent</td>\n      <td>{'id': 92907907, 'login': 'znyt', 'display_log...</td>\n      <td>{'id': 446902156, 'name': 'znyt/oss111', 'url'...</td>\n      <td>{'push_id': 10072717837, 'size': 1, 'distinct_...</td>\n      <td>True</td>\n      <td>2022-06-05 00:00:00+00:00</td>\n      <td>NaN</td>\n    </tr>\n    <tr>\n      <th>2</th>\n      <td>22164041434</td>\n      <td>PushEvent</td>\n      <td>{'id': 44050213, 'login': 'collisioncataclysm'...</td>\n      <td>{'id': 496726861, 'name': 'collisioncataclysm/...</td>\n      <td>{'push_id': 10072717839, 'size': 1, 'distinct_...</td>\n      <td>True</td>\n      <td>2022-06-05 00:00:00+00:00</td>\n      <td>NaN</td>\n    </tr>\n    <tr>\n      <th>3</th>\n      <td>22164041435</td>\n      <td>CreateEvent</td>\n      <td>{'id': 88858119, 'login': 'danrprado', 'displa...</td>\n      <td>{'id': 496835873, 'name': 'danrprado/cpanel-ap...</td>\n      <td>{'ref': 'update-readme', 'ref_type': 'branch',...</td>\n      <td>True</td>\n      <td>2022-06-05 00:00:00+00:00</td>\n      <td>NaN</td>\n    </tr>\n    <tr>\n      <th>4</th>\n      <td>22164041436</td>\n      <td>PushEvent</td>\n      <td>{'id': 69619077, 'login': 'szk302', 'display_l...</td>\n      <td>{'id': 430227097, 'name': 'szk302/dev-blog-htm...</td>\n      <td>{'push_id': 10072717843, 'size': 1, 'distinct_...</td>\n      <td>True</td>\n      <td>2022-06-05 00:00:00+00:00</td>\n      <td>NaN</td>\n    </tr>\n  </tbody>\n</table>\n</div>"
     },
     "execution_count": 12,
     "metadata": {},
     "output_type": "execute_result"
    }
   ],
   "source": [
    "df.head()"
   ],
   "metadata": {
    "collapsed": false,
    "pycharm": {
     "name": "#%%\n"
    }
   }
  }
 ],
 "metadata": {
  "kernelspec": {
   "display_name": "Python 3",
   "language": "python",
   "name": "python3"
  },
  "language_info": {
   "codemirror_mode": {
    "name": "ipython",
    "version": 2
   },
   "file_extension": ".py",
   "mimetype": "text/x-python",
   "name": "python",
   "nbconvert_exporter": "python",
   "pygments_lexer": "ipython2",
   "version": "2.7.6"
  }
 },
 "nbformat": 4,
 "nbformat_minor": 0
}